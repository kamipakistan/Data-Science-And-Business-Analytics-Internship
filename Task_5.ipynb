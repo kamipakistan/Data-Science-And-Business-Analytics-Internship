{
 "cells": [
  {
   "cell_type": "markdown",
   "id": "2125fa04-1355-4ec1-b170-4aa0a36ee8ad",
   "metadata": {},
   "source": [
    "# **THE SPARKS FOUNDATION**\n",
    "# Data Science & Business Analytics Internship\n",
    "# By **Kamran khan**\n",
    "# TASK-5: Perform ‘Exploratory Data Analysis’ on dataset ‘Indian Premier League’\n",
    "##  As a sports analysts, find out the most successful teams, players and factors contributing win or loss of a team.\n",
    "##  Suggest teams or players a company should endorse for its products."
   ]
  },
  {
   "cell_type": "markdown",
   "id": "d675ac53-d330-4467-9b3d-635f731c26a6",
   "metadata": {},
   "source": [
    "### Importing necessary libraries"
   ]
  },
  {
   "cell_type": "code",
   "execution_count": 37,
   "id": "a8f883e7-08f5-4ee8-9872-a7f3f1a4ad19",
   "metadata": {},
   "outputs": [],
   "source": [
    "import pandas as pd\n",
    "import numpy as np\n",
    "import seaborn as sns\n",
    "import os\n",
    "import matplotlib.pyplot as plt\n",
    "\n",
    "plt.style.use(\"seaborn-whitegrid\")"
   ]
  },
  {
   "cell_type": "markdown",
   "id": "e395c946-7e09-4de1-bf4b-c9752e1463f7",
   "metadata": {},
   "source": [
    "### Loading Datasets"
   ]
  },
  {
   "cell_type": "code",
   "execution_count": 38,
   "id": "23ee034a-dbcf-4206-94c5-93a186cb2aa3",
   "metadata": {},
   "outputs": [],
   "source": [
    "data = pd.read_csv('matches.csv')\n",
    "deliveries = pd.read_csv('deliveries.csv')"
   ]
  },
  {
   "cell_type": "code",
   "execution_count": 39,
   "id": "2f1e3ad2-8bb2-4d89-9f77-b8c41fb839f2",
   "metadata": {},
   "outputs": [
    {
     "data": {
      "text/html": [
       "<div>\n",
       "<style scoped>\n",
       "    .dataframe tbody tr th:only-of-type {\n",
       "        vertical-align: middle;\n",
       "    }\n",
       "\n",
       "    .dataframe tbody tr th {\n",
       "        vertical-align: top;\n",
       "    }\n",
       "\n",
       "    .dataframe thead th {\n",
       "        text-align: right;\n",
       "    }\n",
       "</style>\n",
       "<table border=\"1\" class=\"dataframe\">\n",
       "  <thead>\n",
       "    <tr style=\"text-align: right;\">\n",
       "      <th></th>\n",
       "      <th>id</th>\n",
       "      <th>season</th>\n",
       "      <th>city</th>\n",
       "      <th>date</th>\n",
       "      <th>team1</th>\n",
       "      <th>team2</th>\n",
       "      <th>toss_winner</th>\n",
       "      <th>toss_decision</th>\n",
       "      <th>result</th>\n",
       "      <th>dl_applied</th>\n",
       "      <th>winner</th>\n",
       "      <th>win_by_runs</th>\n",
       "      <th>win_by_wickets</th>\n",
       "      <th>player_of_match</th>\n",
       "      <th>venue</th>\n",
       "      <th>umpire1</th>\n",
       "      <th>umpire2</th>\n",
       "      <th>umpire3</th>\n",
       "    </tr>\n",
       "  </thead>\n",
       "  <tbody>\n",
       "    <tr>\n",
       "      <th>0</th>\n",
       "      <td>1</td>\n",
       "      <td>2017</td>\n",
       "      <td>Hyderabad</td>\n",
       "      <td>2017-04-05</td>\n",
       "      <td>Sunrisers Hyderabad</td>\n",
       "      <td>Royal Challengers Bangalore</td>\n",
       "      <td>Royal Challengers Bangalore</td>\n",
       "      <td>field</td>\n",
       "      <td>normal</td>\n",
       "      <td>0</td>\n",
       "      <td>Sunrisers Hyderabad</td>\n",
       "      <td>35</td>\n",
       "      <td>0</td>\n",
       "      <td>Yuvraj Singh</td>\n",
       "      <td>Rajiv Gandhi International Stadium, Uppal</td>\n",
       "      <td>AY Dandekar</td>\n",
       "      <td>NJ Llong</td>\n",
       "      <td>NaN</td>\n",
       "    </tr>\n",
       "    <tr>\n",
       "      <th>1</th>\n",
       "      <td>2</td>\n",
       "      <td>2017</td>\n",
       "      <td>Pune</td>\n",
       "      <td>2017-04-06</td>\n",
       "      <td>Mumbai Indians</td>\n",
       "      <td>Rising Pune Supergiant</td>\n",
       "      <td>Rising Pune Supergiant</td>\n",
       "      <td>field</td>\n",
       "      <td>normal</td>\n",
       "      <td>0</td>\n",
       "      <td>Rising Pune Supergiant</td>\n",
       "      <td>0</td>\n",
       "      <td>7</td>\n",
       "      <td>SPD Smith</td>\n",
       "      <td>Maharashtra Cricket Association Stadium</td>\n",
       "      <td>A Nand Kishore</td>\n",
       "      <td>S Ravi</td>\n",
       "      <td>NaN</td>\n",
       "    </tr>\n",
       "  </tbody>\n",
       "</table>\n",
       "</div>"
      ],
      "text/plain": [
       "   id  season       city        date                team1  \\\n",
       "0   1    2017  Hyderabad  2017-04-05  Sunrisers Hyderabad   \n",
       "1   2    2017       Pune  2017-04-06       Mumbai Indians   \n",
       "\n",
       "                         team2                  toss_winner toss_decision  \\\n",
       "0  Royal Challengers Bangalore  Royal Challengers Bangalore         field   \n",
       "1       Rising Pune Supergiant       Rising Pune Supergiant         field   \n",
       "\n",
       "   result  dl_applied                  winner  win_by_runs  win_by_wickets  \\\n",
       "0  normal           0     Sunrisers Hyderabad           35               0   \n",
       "1  normal           0  Rising Pune Supergiant            0               7   \n",
       "\n",
       "  player_of_match                                      venue         umpire1  \\\n",
       "0    Yuvraj Singh  Rajiv Gandhi International Stadium, Uppal     AY Dandekar   \n",
       "1       SPD Smith    Maharashtra Cricket Association Stadium  A Nand Kishore   \n",
       "\n",
       "    umpire2 umpire3  \n",
       "0  NJ Llong     NaN  \n",
       "1    S Ravi     NaN  "
      ]
     },
     "execution_count": 39,
     "metadata": {},
     "output_type": "execute_result"
    }
   ],
   "source": [
    "data.head(2)"
   ]
  },
  {
   "cell_type": "code",
   "execution_count": 40,
   "id": "4dd43453-3ff3-498d-986b-86dc2be3a314",
   "metadata": {},
   "outputs": [
    {
     "data": {
      "text/html": [
       "<div>\n",
       "<style scoped>\n",
       "    .dataframe tbody tr th:only-of-type {\n",
       "        vertical-align: middle;\n",
       "    }\n",
       "\n",
       "    .dataframe tbody tr th {\n",
       "        vertical-align: top;\n",
       "    }\n",
       "\n",
       "    .dataframe thead th {\n",
       "        text-align: right;\n",
       "    }\n",
       "</style>\n",
       "<table border=\"1\" class=\"dataframe\">\n",
       "  <thead>\n",
       "    <tr style=\"text-align: right;\">\n",
       "      <th></th>\n",
       "      <th>match_id</th>\n",
       "      <th>inning</th>\n",
       "      <th>batting_team</th>\n",
       "      <th>bowling_team</th>\n",
       "      <th>over</th>\n",
       "      <th>ball</th>\n",
       "      <th>batsman</th>\n",
       "      <th>non_striker</th>\n",
       "      <th>bowler</th>\n",
       "      <th>is_super_over</th>\n",
       "      <th>...</th>\n",
       "      <th>bye_runs</th>\n",
       "      <th>legbye_runs</th>\n",
       "      <th>noball_runs</th>\n",
       "      <th>penalty_runs</th>\n",
       "      <th>batsman_runs</th>\n",
       "      <th>extra_runs</th>\n",
       "      <th>total_runs</th>\n",
       "      <th>player_dismissed</th>\n",
       "      <th>dismissal_kind</th>\n",
       "      <th>fielder</th>\n",
       "    </tr>\n",
       "  </thead>\n",
       "  <tbody>\n",
       "    <tr>\n",
       "      <th>0</th>\n",
       "      <td>1</td>\n",
       "      <td>1</td>\n",
       "      <td>Sunrisers Hyderabad</td>\n",
       "      <td>Royal Challengers Bangalore</td>\n",
       "      <td>1</td>\n",
       "      <td>1</td>\n",
       "      <td>DA Warner</td>\n",
       "      <td>S Dhawan</td>\n",
       "      <td>TS Mills</td>\n",
       "      <td>0</td>\n",
       "      <td>...</td>\n",
       "      <td>0</td>\n",
       "      <td>0</td>\n",
       "      <td>0</td>\n",
       "      <td>0</td>\n",
       "      <td>0</td>\n",
       "      <td>0</td>\n",
       "      <td>0</td>\n",
       "      <td>NaN</td>\n",
       "      <td>NaN</td>\n",
       "      <td>NaN</td>\n",
       "    </tr>\n",
       "    <tr>\n",
       "      <th>1</th>\n",
       "      <td>1</td>\n",
       "      <td>1</td>\n",
       "      <td>Sunrisers Hyderabad</td>\n",
       "      <td>Royal Challengers Bangalore</td>\n",
       "      <td>1</td>\n",
       "      <td>2</td>\n",
       "      <td>DA Warner</td>\n",
       "      <td>S Dhawan</td>\n",
       "      <td>TS Mills</td>\n",
       "      <td>0</td>\n",
       "      <td>...</td>\n",
       "      <td>0</td>\n",
       "      <td>0</td>\n",
       "      <td>0</td>\n",
       "      <td>0</td>\n",
       "      <td>0</td>\n",
       "      <td>0</td>\n",
       "      <td>0</td>\n",
       "      <td>NaN</td>\n",
       "      <td>NaN</td>\n",
       "      <td>NaN</td>\n",
       "    </tr>\n",
       "  </tbody>\n",
       "</table>\n",
       "<p>2 rows × 21 columns</p>\n",
       "</div>"
      ],
      "text/plain": [
       "   match_id  inning         batting_team                 bowling_team  over  \\\n",
       "0         1       1  Sunrisers Hyderabad  Royal Challengers Bangalore     1   \n",
       "1         1       1  Sunrisers Hyderabad  Royal Challengers Bangalore     1   \n",
       "\n",
       "   ball    batsman non_striker    bowler  is_super_over  ...  bye_runs  \\\n",
       "0     1  DA Warner    S Dhawan  TS Mills              0  ...         0   \n",
       "1     2  DA Warner    S Dhawan  TS Mills              0  ...         0   \n",
       "\n",
       "   legbye_runs  noball_runs  penalty_runs  batsman_runs  extra_runs  \\\n",
       "0            0            0             0             0           0   \n",
       "1            0            0             0             0           0   \n",
       "\n",
       "   total_runs  player_dismissed dismissal_kind fielder  \n",
       "0           0               NaN            NaN     NaN  \n",
       "1           0               NaN            NaN     NaN  \n",
       "\n",
       "[2 rows x 21 columns]"
      ]
     },
     "execution_count": 40,
     "metadata": {},
     "output_type": "execute_result"
    }
   ],
   "source": [
    "deliveries.head(2)"
   ]
  },
  {
   "cell_type": "markdown",
   "id": "f800ef54-0037-4a4f-be71-3d971a8840c5",
   "metadata": {},
   "source": [
    "### Checking the Columns of the Dataset"
   ]
  },
  {
   "cell_type": "code",
   "execution_count": 41,
   "id": "5eccb793-1f5e-4a59-b3af-316c46ebf753",
   "metadata": {},
   "outputs": [
    {
     "data": {
      "text/plain": [
       "Index(['id', 'season', 'city', 'date', 'team1', 'team2', 'toss_winner',\n",
       "       'toss_decision', 'result', 'dl_applied', 'winner', 'win_by_runs',\n",
       "       'win_by_wickets', 'player_of_match', 'venue', 'umpire1', 'umpire2',\n",
       "       'umpire3'],\n",
       "      dtype='object')"
      ]
     },
     "execution_count": 41,
     "metadata": {},
     "output_type": "execute_result"
    }
   ],
   "source": [
    "data.columns"
   ]
  },
  {
   "cell_type": "code",
   "execution_count": 42,
   "id": "5c7f6a1c-4c7c-489e-a95c-56828606b0fe",
   "metadata": {},
   "outputs": [
    {
     "data": {
      "text/plain": [
       "Index(['match_id', 'inning', 'batting_team', 'bowling_team', 'over', 'ball',\n",
       "       'batsman', 'non_striker', 'bowler', 'is_super_over', 'wide_runs',\n",
       "       'bye_runs', 'legbye_runs', 'noball_runs', 'penalty_runs',\n",
       "       'batsman_runs', 'extra_runs', 'total_runs', 'player_dismissed',\n",
       "       'dismissal_kind', 'fielder'],\n",
       "      dtype='object')"
      ]
     },
     "execution_count": 42,
     "metadata": {},
     "output_type": "execute_result"
    }
   ],
   "source": [
    "deliveries.columns"
   ]
  },
  {
   "cell_type": "markdown",
   "id": "8fc0b3e9-a7a0-4b6f-84fc-d3f661e0dd16",
   "metadata": {},
   "source": [
    "### Displaying The info of both the dataset"
   ]
  },
  {
   "cell_type": "code",
   "execution_count": 43,
   "id": "e65173a0-14ae-4c54-977e-23a24998fc64",
   "metadata": {},
   "outputs": [
    {
     "name": "stdout",
     "output_type": "stream",
     "text": [
      "<class 'pandas.core.frame.DataFrame'>\n",
      "RangeIndex: 756 entries, 0 to 755\n",
      "Data columns (total 18 columns):\n",
      " #   Column           Non-Null Count  Dtype \n",
      "---  ------           --------------  ----- \n",
      " 0   id               756 non-null    int64 \n",
      " 1   season           756 non-null    int64 \n",
      " 2   city             749 non-null    object\n",
      " 3   date             756 non-null    object\n",
      " 4   team1            756 non-null    object\n",
      " 5   team2            756 non-null    object\n",
      " 6   toss_winner      756 non-null    object\n",
      " 7   toss_decision    756 non-null    object\n",
      " 8   result           756 non-null    object\n",
      " 9   dl_applied       756 non-null    int64 \n",
      " 10  winner           752 non-null    object\n",
      " 11  win_by_runs      756 non-null    int64 \n",
      " 12  win_by_wickets   756 non-null    int64 \n",
      " 13  player_of_match  752 non-null    object\n",
      " 14  venue            756 non-null    object\n",
      " 15  umpire1          754 non-null    object\n",
      " 16  umpire2          754 non-null    object\n",
      " 17  umpire3          119 non-null    object\n",
      "dtypes: int64(5), object(13)\n",
      "memory usage: 106.4+ KB\n"
     ]
    }
   ],
   "source": [
    "# Matches data\n",
    "data.info()"
   ]
  },
  {
   "cell_type": "code",
   "execution_count": 44,
   "id": "29b98c23-2d58-4ac1-aed6-054b343a7846",
   "metadata": {},
   "outputs": [
    {
     "name": "stdout",
     "output_type": "stream",
     "text": [
      "<class 'pandas.core.frame.DataFrame'>\n",
      "RangeIndex: 179078 entries, 0 to 179077\n",
      "Data columns (total 21 columns):\n",
      " #   Column            Non-Null Count   Dtype \n",
      "---  ------            --------------   ----- \n",
      " 0   match_id          179078 non-null  int64 \n",
      " 1   inning            179078 non-null  int64 \n",
      " 2   batting_team      179078 non-null  object\n",
      " 3   bowling_team      179078 non-null  object\n",
      " 4   over              179078 non-null  int64 \n",
      " 5   ball              179078 non-null  int64 \n",
      " 6   batsman           179078 non-null  object\n",
      " 7   non_striker       179078 non-null  object\n",
      " 8   bowler            179078 non-null  object\n",
      " 9   is_super_over     179078 non-null  int64 \n",
      " 10  wide_runs         179078 non-null  int64 \n",
      " 11  bye_runs          179078 non-null  int64 \n",
      " 12  legbye_runs       179078 non-null  int64 \n",
      " 13  noball_runs       179078 non-null  int64 \n",
      " 14  penalty_runs      179078 non-null  int64 \n",
      " 15  batsman_runs      179078 non-null  int64 \n",
      " 16  extra_runs        179078 non-null  int64 \n",
      " 17  total_runs        179078 non-null  int64 \n",
      " 18  player_dismissed  8834 non-null    object\n",
      " 19  dismissal_kind    8834 non-null    object\n",
      " 20  fielder           6448 non-null    object\n",
      "dtypes: int64(13), object(8)\n",
      "memory usage: 28.7+ MB\n"
     ]
    }
   ],
   "source": [
    "deliveries.info()"
   ]
  },
  {
   "cell_type": "markdown",
   "id": "fd3cf3bd-b5df-41b8-bf8f-00757c081ad8",
   "metadata": {},
   "source": [
    "### Checking the Shape of the Datset"
   ]
  },
  {
   "cell_type": "code",
   "execution_count": 45,
   "id": "8111ed45-14ba-45fa-9b3c-11ea6c54fdf1",
   "metadata": {},
   "outputs": [
    {
     "name": "stdout",
     "output_type": "stream",
     "text": [
      "Matches data shape = (756, 18)\n",
      "Deliveries data Shape = (179078, 21)\n"
     ]
    }
   ],
   "source": [
    "print('Matches data shape =',data.shape)\n",
    "print('Deliveries data Shape =',deliveries.shape)"
   ]
  },
  {
   "cell_type": "markdown",
   "id": "c8f7aa45-a683-4df7-967e-ed1fd7dfa976",
   "metadata": {},
   "source": [
    "# **Handling Missing Values**"
   ]
  },
  {
   "cell_type": "markdown",
   "id": "23db5d4a-ee90-4045-aa39-fd9ca86c5a85",
   "metadata": {},
   "source": [
    "# Checking the percentage of Missing values in rows"
   ]
  },
  {
   "cell_type": "markdown",
   "id": "afee672f-8759-4770-8edf-3179e62ebd4a",
   "metadata": {},
   "source": [
    "### **Matches dataset**"
   ]
  },
  {
   "cell_type": "code",
   "execution_count": 46,
   "id": "69438610-d241-42d0-92ad-689039f21917",
   "metadata": {},
   "outputs": [
    {
     "data": {
      "text/plain": [
       "300    16.666667\n",
       "753    16.666667\n",
       "570    16.666667\n",
       "4      16.666667\n",
       "545    16.666667\n",
       "469    11.111111\n",
       "461    11.111111\n",
       "462    11.111111\n",
       "466    11.111111\n",
       "468    11.111111\n",
       "476    11.111111\n",
       "744    11.111111\n",
       "474    11.111111\n",
       "406     5.555556\n",
       "425     5.555556\n",
       "dtype: float64"
      ]
     },
     "execution_count": 46,
     "metadata": {},
     "output_type": "execute_result"
    }
   ],
   "source": [
    "total_columns = data.shape[1]\n",
    "\n",
    "# Percentage_of_Missing_values_in_rows\n",
    "missing = data.isnull().sum(axis =1)/total_columns*100\n",
    "\n",
    "missing.sort_values(ascending =False).head(15)"
   ]
  },
  {
   "cell_type": "markdown",
   "id": "643455d5-d12d-4bc3-af01-496d9fb5cdc3",
   "metadata": {},
   "source": [
    "### **Deliveries Dataset**"
   ]
  },
  {
   "cell_type": "code",
   "execution_count": 47,
   "id": "989366ba-202b-4c34-af57-be8f342f89a6",
   "metadata": {},
   "outputs": [
    {
     "data": {
      "text/plain": [
       "0         14.285714\n",
       "117907    14.285714\n",
       "117899    14.285714\n",
       "117900    14.285714\n",
       "117901    14.285714\n",
       "117902    14.285714\n",
       "117903    14.285714\n",
       "117904    14.285714\n",
       "117905    14.285714\n",
       "117906    14.285714\n",
       "117909    14.285714\n",
       "117919    14.285714\n",
       "117910    14.285714\n",
       "117911    14.285714\n",
       "117912    14.285714\n",
       "dtype: float64"
      ]
     },
     "execution_count": 47,
     "metadata": {},
     "output_type": "execute_result"
    }
   ],
   "source": [
    "total_columns = deliveries.shape[1]\n",
    "\n",
    "# Percentage_of_Missing_values_in_rows\n",
    "missing = deliveries.isnull().sum(axis =1)/total_columns*100\n",
    "\n",
    "missing.sort_values(ascending =False).head(15)"
   ]
  },
  {
   "cell_type": "markdown",
   "id": "c307a92b-190b-4438-abac-488f1618c003",
   "metadata": {},
   "source": [
    "# Checking the percentage of Missing values in columns"
   ]
  },
  {
   "cell_type": "markdown",
   "id": "d064dd1e-0ac1-47a4-bbd5-f87e35a46f03",
   "metadata": {},
   "source": [
    "### **Matches dataset**"
   ]
  },
  {
   "cell_type": "code",
   "execution_count": 48,
   "id": "cbd2b24c-2a19-426f-a71e-195f77de73ac",
   "metadata": {},
   "outputs": [
    {
     "data": {
      "text/plain": [
       "umpire3            84.259259\n",
       "city                0.925926\n",
       "winner              0.529101\n",
       "player_of_match     0.529101\n",
       "umpire2             0.264550\n",
       "umpire1             0.264550\n",
       "venue               0.000000\n",
       "win_by_wickets      0.000000\n",
       "win_by_runs         0.000000\n",
       "id                  0.000000\n",
       "season              0.000000\n",
       "result              0.000000\n",
       "toss_decision       0.000000\n",
       "toss_winner         0.000000\n",
       "team2               0.000000\n",
       "team1               0.000000\n",
       "date                0.000000\n",
       "dl_applied          0.000000\n",
       "dtype: float64"
      ]
     },
     "execution_count": 48,
     "metadata": {},
     "output_type": "execute_result"
    }
   ],
   "source": [
    "total = data.shape[0]\n",
    "\n",
    "# Displaying the Percentage of Missing values in the columns\n",
    "missing_val = (data.isnull().sum()/total)*100\n",
    "\n",
    "missing_val.sort_values(ascending =False).head(20)"
   ]
  },
  {
   "cell_type": "markdown",
   "id": "2e9f6175-0066-4e82-af4f-e41a1359af31",
   "metadata": {},
   "source": [
    "**Droping the most missing values column**"
   ]
  },
  {
   "cell_type": "code",
   "execution_count": 49,
   "id": "2887d39d-1741-4012-940f-4694b435cd8d",
   "metadata": {},
   "outputs": [],
   "source": [
    "data = data.drop(\"umpire3\", axis =1,)"
   ]
  },
  {
   "cell_type": "markdown",
   "id": "c7cd6234-8dab-49d9-bc16-e44856eeab90",
   "metadata": {},
   "source": [
    "### **Deliveries Dataset**"
   ]
  },
  {
   "cell_type": "code",
   "execution_count": 50,
   "id": "d967a8ef-6b5d-44d9-b228-b337d425c1af",
   "metadata": {},
   "outputs": [
    {
     "data": {
      "text/plain": [
       "fielder             96.399334\n",
       "dismissal_kind      95.066954\n",
       "player_dismissed    95.066954\n",
       "bye_runs             0.000000\n",
       "total_runs           0.000000\n",
       "extra_runs           0.000000\n",
       "batsman_runs         0.000000\n",
       "penalty_runs         0.000000\n",
       "noball_runs          0.000000\n",
       "legbye_runs          0.000000\n",
       "match_id             0.000000\n",
       "inning               0.000000\n",
       "is_super_over        0.000000\n",
       "bowler               0.000000\n",
       "non_striker          0.000000\n",
       "batsman              0.000000\n",
       "ball                 0.000000\n",
       "over                 0.000000\n",
       "bowling_team         0.000000\n",
       "batting_team         0.000000\n",
       "dtype: float64"
      ]
     },
     "execution_count": 50,
     "metadata": {},
     "output_type": "execute_result"
    }
   ],
   "source": [
    "total = deliveries.shape[0]\n",
    "\n",
    "# Displaying the Percentage of Missing values in the columns\n",
    "missing_val = (deliveries.isnull().sum()/total)*100\n",
    "\n",
    "missing_val.sort_values(ascending =False).head(20)"
   ]
  },
  {
   "cell_type": "markdown",
   "id": "6f506eae-a133-49d6-a93a-3083562c23c5",
   "metadata": {},
   "source": [
    "**Droping the most missing values column**"
   ]
  },
  {
   "cell_type": "code",
   "execution_count": 51,
   "id": "9c72ea19-a1e0-4f8a-9527-409eba2a8639",
   "metadata": {},
   "outputs": [],
   "source": [
    "deliveries=deliveries.drop([\"fielder\", \"dismissal_kind\", \"player_dismissed\"], axis =1)"
   ]
  },
  {
   "cell_type": "markdown",
   "id": "94d850e6-2e47-4a67-90fb-4424d71588bf",
   "metadata": {},
   "source": [
    "# Handling Unique Values"
   ]
  },
  {
   "cell_type": "code",
   "execution_count": 52,
   "id": "2cf1c022-a01c-4b15-8c22-a7fdac91cf0f",
   "metadata": {},
   "outputs": [
    {
     "name": "stdout",
     "output_type": "stream",
     "text": [
      "Total Number of Rows = 756\n"
     ]
    },
    {
     "data": {
      "text/plain": [
       "id                 756\n",
       "date               546\n",
       "player_of_match    226\n",
       "win_by_runs         89\n",
       "umpire2             65\n",
       "umpire1             61\n",
       "venue               41\n",
       "city                32\n",
       "team2               15\n",
       "toss_winner         15\n",
       "dtype: int64"
      ]
     },
     "execution_count": 52,
     "metadata": {},
     "output_type": "execute_result"
    }
   ],
   "source": [
    "# Checking Unique Values in the columns\n",
    "print(f\"Total Number of Rows = { data.shape[0]}\")\n",
    "data.nunique().sort_values(ascending  =False).head(10)"
   ]
  },
  {
   "cell_type": "code",
   "execution_count": 53,
   "id": "d090d98f-e1cb-49a2-a391-9f4d49afe9bd",
   "metadata": {},
   "outputs": [],
   "source": [
    "data =data.drop(\"id\", axis =1)"
   ]
  },
  {
   "cell_type": "markdown",
   "id": "ca129a7d-0da8-442f-83ea-706e5d54df3f",
   "metadata": {},
   "source": [
    "# Handling Duplicated Values"
   ]
  },
  {
   "cell_type": "code",
   "execution_count": 54,
   "id": "af002ef2-6bc3-4639-a8d3-b8b94c764c12",
   "metadata": {},
   "outputs": [
    {
     "name": "stdout",
     "output_type": "stream",
     "text": [
      "Matches Dataset duplicated values =0\n",
      "Deliveries Dataset duplicated values =24\n"
     ]
    }
   ],
   "source": [
    "print(f\"Matches Dataset duplicated values ={data.duplicated().sum()}\")\n",
    "print(f\"Deliveries Dataset duplicated values ={deliveries.duplicated().sum()}\")"
   ]
  },
  {
   "cell_type": "markdown",
   "id": "707e7070-ab01-475e-8309-b79d18f765f6",
   "metadata": {},
   "source": [
    "**Droping Duplicated values**"
   ]
  },
  {
   "cell_type": "code",
   "execution_count": 55,
   "id": "ed42b43e-6a2a-4ae7-939e-d701e31ba281",
   "metadata": {},
   "outputs": [],
   "source": [
    "deliveries = deliveries.drop_duplicates()"
   ]
  },
  {
   "cell_type": "markdown",
   "id": "8e31b68a-764a-49f0-9b48-1305c5facb11",
   "metadata": {},
   "source": [
    "# Visualizations of some important features"
   ]
  },
  {
   "cell_type": "markdown",
   "id": "00ef3c26-579e-4140-b0fc-3482ade0c1ed",
   "metadata": {},
   "source": [
    "# Most Successful Teams in IPL"
   ]
  },
  {
   "cell_type": "code",
   "execution_count": 56,
   "id": "b623fbce-9c3a-4b38-879a-eb3d808315db",
   "metadata": {},
   "outputs": [
    {
     "data": {
      "image/png": "[encoded data removed]",
      "text/plain": [
       "<Figure size 720x288 with 1 Axes>"
      ]
     },
     "metadata": {},
     "output_type": "display_data"
    }
   ],
   "source": [
    "data.winner.value_counts()[:10].plot(kind = \"bar\", color =\"black\", figsize =(10,4))\n",
    "plt.show()"
   ]
  },
  {
   "cell_type": "markdown",
   "id": "d8e2f534-6a85-4ff1-9456-df74cfa1f5ee",
   "metadata": {},
   "source": [
    "# The Most Successful Players in IPL"
   ]
  },
  {
   "cell_type": "code",
   "execution_count": 57,
   "id": "64d278a6-03c7-4848-a648-357fc1a64054",
   "metadata": {},
   "outputs": [
    {
     "data": {
      "image/png": "[encoded data removed]",
      "text/plain": [
       "<Figure size 792x288 with 1 Axes>"
      ]
     },
     "metadata": {},
     "output_type": "display_data"
    }
   ],
   "source": [
    "plt.figure(figsize=(11,4))\n",
    "data.player_of_match.value_counts()[:10].plot(kind = \"bar\", color =\"red\")\n",
    "plt.show()"
   ]
  },
  {
   "cell_type": "markdown",
   "id": "7e0483ad-52de-4c26-94d3-9c2e8299c9cb",
   "metadata": {},
   "source": [
    "# Toss Factor contributing in wining or lossing of Match."
   ]
  },
  {
   "cell_type": "code",
   "execution_count": 58,
   "id": "c3147122-6e77-4f32-9b2f-117efb43857f",
   "metadata": {},
   "outputs": [
    {
     "data": {
      "text/plain": [
       "Text(0.5, 0, 'Wining Toss and match')"
      ]
     },
     "execution_count": 58,
     "metadata": {},
     "output_type": "execute_result"
    },
    {
     "data": {
      "image/png": "[encoded data removed]",
      "text/plain": [
       "<Figure size 720x288 with 1 Axes>"
      ]
     },
     "metadata": {},
     "output_type": "display_data"
    }
   ],
   "source": [
    "data['toss_win_game_win'] = np.where((data.toss_winner == data.winner),'Yes','No')\n",
    "\n",
    "plt.figure(figsize =(10,4))\n",
    "sns.countplot(x= \"toss_win_game_win\",  hue = \"toss_decision\",data =data)\n",
    "plt.xlabel(\"Wining Toss and match\", fontsize=\"15\")"
   ]
  },
  {
   "cell_type": "markdown",
   "id": "826327ca-dd39-4365-95ea-f10d8129fb93",
   "metadata": {},
   "source": [
    "# Player's performance Which have mostly led his team to win"
   ]
  },
  {
   "cell_type": "code",
   "execution_count": 59,
   "id": "14016b49-8682-4d15-9e98-2030719c8a8d",
   "metadata": {},
   "outputs": [
    {
     "data": {
      "image/png": "[encoded data removed]",
      "text/plain": [
       "<Figure size 792x288 with 1 Axes>"
      ]
     },
     "metadata": {},
     "output_type": "display_data"
    }
   ],
   "source": [
    "plt.figure(figsize=(11,4))\n",
    "data.player_of_match.value_counts()[:10].plot(kind = \"bar\", color =\"green\")\n",
    "plt.title(\"Top 10 most  Player of match awards taken\")\n",
    "plt.show()"
   ]
  },
  {
   "cell_type": "markdown",
   "id": "92b78af1-088f-4d6f-acb0-accb08896f7d",
   "metadata": {},
   "source": [
    "# IPL Highest Run Scorers"
   ]
  },
  {
   "cell_type": "code",
   "execution_count": 60,
   "id": "6cc1be08-cf04-4db1-8d89-ce6cd3357cfc",
   "metadata": {},
   "outputs": [
    {
     "data": {
      "text/plain": [
       "<AxesSubplot:>"
      ]
     },
     "execution_count": 60,
     "metadata": {},
     "output_type": "execute_result"
    },
    {
     "data": {
      "image/png": "[encoded data removed]",
      "text/plain": [
       "<Figure size 720x288 with 1 Axes>"
      ]
     },
     "metadata": {},
     "output_type": "display_data"
    }
   ],
   "source": [
    "deliveries['batsman'].value_counts()[:10].plot(kind =\"bar\",\n",
    "                                               color =\"orange\",\n",
    "                                               figsize =(10,4))"
   ]
  },
  {
   "cell_type": "markdown",
   "id": "1549e625-08ea-4032-9ce6-f1c192607707",
   "metadata": {},
   "source": [
    "# Number of matches played in stadium"
   ]
  },
  {
   "cell_type": "code",
   "execution_count": 61,
   "id": "ffa6b572-4931-4442-95f5-8a50887a9fa1",
   "metadata": {},
   "outputs": [
    {
     "data": {
      "text/plain": [
       "Text(0.5, 1.0, 'Top 10 Most Matches played Stadiums')"
      ]
     },
     "execution_count": 61,
     "metadata": {},
     "output_type": "execute_result"
    },
    {
     "data": {
      "image/png": "[encoded data removed]",
      "text/plain": [
       "<Figure size 720x288 with 1 Axes>"
      ]
     },
     "metadata": {},
     "output_type": "display_data"
    }
   ],
   "source": [
    "data.venue.value_counts()[:10].plot(kind =\"bar\", color =\"blue\", figsize =(10,4))\n",
    "plt.title(\"Top 10 Most Matches played Stadiums\", fontsize =15)"
   ]
  },
  {
   "cell_type": "markdown",
   "id": "dac64c08-eed0-4379-b9af-dfb63a383d12",
   "metadata": {},
   "source": [
    "# Toss Decision to field or bat across seasons"
   ]
  },
  {
   "cell_type": "code",
   "execution_count": 62,
   "id": "5456f5d5-5206-4452-ad41-4fd29f7724a0",
   "metadata": {},
   "outputs": [
    {
     "data": {
      "image/png": "[encoded data removed]",
      "text/plain": [
       "<Figure size 1080x432 with 1 Axes>"
      ]
     },
     "metadata": {},
     "output_type": "display_data"
    }
   ],
   "source": [
    "plt.subplots(figsize=(15,6))\n",
    "sns.countplot(x='season',hue='toss_decision',data=data )\n",
    "plt.title(\"Decision to field or bat across seasons\", fontsize =15)\n",
    "plt.show()"
   ]
  },
  {
   "cell_type": "markdown",
   "id": "902e3cf3-58f3-4ca8-b22d-db47e87da41c",
   "metadata": {},
   "source": [
    "# Does teams choosed to bat or field first, after winning toss?"
   ]
  },
  {
   "cell_type": "code",
   "execution_count": 63,
   "id": "d5be5b7a-6fb4-4cdd-8796-b68cebdeb459",
   "metadata": {},
   "outputs": [
    {
     "data": {
      "text/plain": [
       "<AxesSubplot:xlabel='toss_decision', ylabel='count'>"
      ]
     },
     "execution_count": 63,
     "metadata": {},
     "output_type": "execute_result"
    },
    {
     "data": {
      "image/png": "[encoded data removed]",
      "text/plain": [
       "<Figure size 432x288 with 1 Axes>"
      ]
     },
     "metadata": {},
     "output_type": "display_data"
    }
   ],
   "source": [
    "sns.countplot(x= \"toss_decision\", data=data)"
   ]
  },
  {
   "cell_type": "markdown",
   "id": "5fd959ef-184c-4344-ada7-84d52c05ee73",
   "metadata": {},
   "source": [
    "# **Conclusion**"
   ]
  },
  {
   "cell_type": "markdown",
   "id": "5140f29b-2156-456a-ba5e-236d94651b8e",
   "metadata": {
    "tags": []
   },
   "source": [
    "#### Most Successful Teams and Players\n",
    "* **The Most successful teams are** MI, Chennai and KKR\n",
    "* **The Most Successful Player are**:  Virat Kohli, Chris Gayle, AB de Villiers, Suresh Raina and Rohit Sharma"
   ]
  },
  {
   "cell_type": "markdown",
   "id": "d5c619c3-67ff-4765-aa15-9722ff3570e4",
   "metadata": {},
   "source": [
    "#### Factors contributing win or loss of a team\n",
    "* **Toss Factor** : Wining a toss is contributing more in team wining\n",
    "* **Toss Decision**: Chosing the Field option after wining a toss is mostly led the team to win\n",
    "* **Player's Performance**: Chris Gayle, AB de Villiers, RG sharma, D warner are the top players with Higest No of Man of the Match awards taken"
   ]
  },
  {
   "cell_type": "markdown",
   "id": "383ce2d9-ffca-4388-b9eb-953badb0f5aa",
   "metadata": {},
   "source": [
    "#### Teams or Players a company should endorse for its products."
   ]
  },
  {
   "cell_type": "markdown",
   "id": "0a212ec3-1254-4a84-83d9-e43f9b26989d",
   "metadata": {},
   "source": [
    "As a company you should invest in **MI, Chennai and RCB** and on \n",
    "**Virat Kohli, Chris Gayle, AB de Villiers, Suresh Raina, Rohit Sharma** Because these are the Top Performing Teams and Players"
   ]
  },
  {
   "cell_type": "code",
   "execution_count": null,
   "id": "e105f1b3-cd98-416c-b650-0e9c4f1a2652",
   "metadata": {},
   "outputs": [],
   "source": []
  }
 ],
 "metadata": {
  "kernelspec": {
   "display_name": "Python 3 (ipykernel)",
   "language": "python",
   "name": "python3"
  },
  "language_info": {
   "codemirror_mode": {
    "name": "ipython",
    "version": 3
   },
   "file_extension": ".py",
   "mimetype": "text/x-python",
   "name": "python",
   "nbconvert_exporter": "python",
   "pygments_lexer": "ipython3",
   "version": "3.7.10"
  }
 },
 "nbformat": 4,
 "nbformat_minor": 5
}
